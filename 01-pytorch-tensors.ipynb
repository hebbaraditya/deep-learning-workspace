{
 "cells": [
  {
   "cell_type": "markdown",
   "metadata": {},
   "source": [
    "# 01-pytorch-tensors\n",
    "\n"
   ]
  },
  {
   "cell_type": "markdown",
   "metadata": {},
   "source": [
    "# What is PyTorch !!?\n",
    "\n",
    "According to their official website [https://pytorch.org/] `PyTorch` is An open source machine learning framework that accelerates the path from research prototyping to production deployment.\n",
    "\n",
    "And when you move to their github page [https://github.com/pytorch/pytorch] you will find these points\n",
    "\n",
    "At the core `PyTorch` is a `python` package that provides two high-level features:\n",
    "* Tensor computation (like NumPy) with strong GPU acceleration\n",
    "* Deep neural networks built on a tape-based autograd system\n",
    "\n",
    "We can reuse our favorite python packages such as `NumPy`, `SciPy`, and `Cython` to extend `Pytorch` when needed\n",
    "\n",
    "Alright, too much theory!!\n",
    "Let's look at some code, later we can learn some more theory part or fundamentals\n",
    "\n",
    "`Note : Any of these are not own words, i crawl around websites and try \n",
    "to bring the best here 🤪!! Sometimes it's harder to keep everything at one place; So I did this....[Ohho!!].`\n"
   ]
  },
  {
   "cell_type": "markdown",
   "metadata": {},
   "source": [
    "# Tensors\n",
    "\n",
    "As I said earlier at it's core, Pytorch is a library for processing tensors. Instead of saying blah blah blah about tensor, in simple words `tensor is just collection of numbers in specific shape (really!?) which can run on both CPU and GPU.`\n",
    "\n",
    "or\n",
    "\n",
    "`In the general case, an array of numbers arranged on a regular grid with a variable number of axes is known as a tensor.`\n",
    "                                       - [link](https://www.amazon.com/Deep-Learning-Adaptive-Computation-Machine/dp/0262035618/ref=as_li_ss_tl?ie=UTF8&qid=1513728680&sr=8-3&keywords=deep+learning&linkCode=sl1&tag=inspiredalgor-20&linkId=b1b8f643b74f61f5074ee6dc0c993de7)\n",
    "                                       \n",
    "or\n",
    "\n",
    "\n",
    "`A tensor is a number, vector, matrix or any n-dimensional array. `\n",
    "\n",
    "So let's create a tensor with a single number."
   ]
  },
  {
   "cell_type": "code",
   "execution_count": null,
   "metadata": {},
   "outputs": [],
   "source": [
    "t1 = torch.tensor"
   ]
  }
 ],
 "metadata": {
  "kernelspec": {
   "display_name": "Python 3 (ipykernel)",
   "language": "python",
   "name": "python3"
  },
  "language_info": {
   "codemirror_mode": {
    "name": "ipython",
    "version": 3
   },
   "file_extension": ".py",
   "mimetype": "text/x-python",
   "name": "python",
   "nbconvert_exporter": "python",
   "pygments_lexer": "ipython3",
   "version": "3.9.7"
  }
 },
 "nbformat": 4,
 "nbformat_minor": 2
}
