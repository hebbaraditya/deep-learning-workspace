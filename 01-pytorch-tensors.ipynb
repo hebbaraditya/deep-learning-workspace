{
 "cells": [
  {
   "cell_type": "markdown",
   "metadata": {},
   "source": [
    "# 01-pytorch-tensors\n",
    "\n"
   ]
  },
  {
   "cell_type": "markdown",
   "metadata": {},
   "source": [
    "# What is PyTorch !!?\n",
    "\n",
    "According to their official website [https://pytorch.org/] PyTorch is An open source machine learning framework that accelerates the path from research prototyping to production deployment.\n",
    "\n",
    "And when you move to their github page [https://github.com/pytorch/pytorch] you will find these points\n",
    "\n",
    "At the core PyTorch is a python package that provides two high-level features:\n",
    "* Tensor computation (like NumPy) with strong GPU acceleration\n",
    "* Deep neural networks built on a tape-based autograd system\n",
    "\n",
    "We can "
   ]
  },
  {
   "cell_type": "code",
   "execution_count": null,
   "metadata": {},
   "outputs": [],
   "source": []
  }
 ],
 "metadata": {
  "kernelspec": {
   "display_name": "Python 3 (ipykernel)",
   "language": "python",
   "name": "python3"
  },
  "language_info": {
   "codemirror_mode": {
    "name": "ipython",
    "version": 3
   },
   "file_extension": ".py",
   "mimetype": "text/x-python",
   "name": "python",
   "nbconvert_exporter": "python",
   "pygments_lexer": "ipython3",
   "version": "3.9.7"
  }
 },
 "nbformat": 4,
 "nbformat_minor": 2
}
